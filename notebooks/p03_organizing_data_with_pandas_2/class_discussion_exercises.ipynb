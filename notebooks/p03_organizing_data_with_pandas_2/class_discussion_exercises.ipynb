{
 "cells": [
  {
   "cell_type": "code",
   "execution_count": null,
   "id": "7e406d88",
   "metadata": {},
   "outputs": [],
   "source": [
    "import requests\n",
    "import zipfile\n",
    "\n",
    "import pandas as pd\n",
    "\n",
    "from io import BytesIO, StringIO\n",
    "\n",
    "%matplotlib inline"
   ]
  },
  {
   "cell_type": "markdown",
   "id": "d15e287b",
   "metadata": {},
   "source": [
    "## First things first... Download the data\n",
    "\n",
    "Data comes from https://www.citibikenyc.com/system-data"
   ]
  },
  {
   "cell_type": "code",
   "execution_count": null,
   "id": "7169a912",
   "metadata": {},
   "outputs": [],
   "source": [
    "base_url = \"https://s3.amazonaws.com/tripdata/\"\n",
    "citibike_2019 = base_url + \"201903-citibike-tripdata.csv.zip\"\n",
    "citibike_2020 = base_url + \"202003-citibike-tripdata.csv.zip\""
   ]
  },
  {
   "cell_type": "code",
   "execution_count": null,
   "id": "0c6c9ce3",
   "metadata": {
    "scrolled": true
   },
   "outputs": [],
   "source": [
    "def download_citibike_zipfile(url):\n",
    "    # Download data from web and store in zipfile\n",
    "    dwnld_content = requests.get(url)\n",
    "    citi_zip = zipfile.ZipFile(\n",
    "        BytesIO(dwnld_content.content)\n",
    "    )\n",
    "\n",
    "    # Find a filename and open it\n",
    "    fn = citi_zip.namelist()[0]\n",
    "    citi_data = citi_zip.open(fn)\n",
    "\n",
    "    # Read into a dataframe\n",
    "    df = pd.read_csv(citi_data)\n",
    "\n",
    "    return df\n"
   ]
  },
  {
   "cell_type": "code",
   "execution_count": null,
   "id": "02ec130d",
   "metadata": {},
   "outputs": [],
   "source": [
    "df_2019 = download_citibike_zipfile(citibike_2019)"
   ]
  },
  {
   "cell_type": "code",
   "execution_count": null,
   "id": "a09dccf8",
   "metadata": {},
   "outputs": [],
   "source": [
    "df_2020 = download_citibike_zipfile(citibike_2020)"
   ]
  },
  {
   "cell_type": "markdown",
   "id": "10634850",
   "metadata": {},
   "source": [
    "## What is in our data?"
   ]
  },
  {
   "cell_type": "code",
   "execution_count": null,
   "id": "8c1b5315",
   "metadata": {},
   "outputs": [],
   "source": [
    "df_2019.shape"
   ]
  },
  {
   "cell_type": "code",
   "execution_count": null,
   "id": "94d15f45",
   "metadata": {},
   "outputs": [],
   "source": [
    "df_2019.dtypes"
   ]
  },
  {
   "cell_type": "code",
   "execution_count": null,
   "id": "767e259d",
   "metadata": {},
   "outputs": [],
   "source": [
    "df_2019.head()"
   ]
  },
  {
   "cell_type": "code",
   "execution_count": null,
   "id": "29d92e03",
   "metadata": {},
   "outputs": [],
   "source": [
    "df_2019[\"start_dt\"] = pd.to_datetime(df_2019[\"starttime\"])\n",
    "df_2019[\"end_dt\"] = pd.to_datetime(df_2019[\"stoptime\"])\n",
    "\n",
    "df_2020[\"start_dt\"] = pd.to_datetime(df_2020[\"starttime\"])\n",
    "df_2020[\"end_dt\"] = pd.to_datetime(df_2020[\"stoptime\"])"
   ]
  },
  {
   "cell_type": "code",
   "execution_count": null,
   "id": "a401092d",
   "metadata": {},
   "outputs": [],
   "source": [
    "df_2019.dtypes"
   ]
  },
  {
   "cell_type": "code",
   "execution_count": null,
   "id": "dc8d281e",
   "metadata": {},
   "outputs": [],
   "source": []
  },
  {
   "cell_type": "markdown",
   "id": "3863b7ff",
   "metadata": {},
   "source": [
    "## Questions to ask the data?\n",
    "\n",
    "The point of data is to learn something... What types of questions can we ask the data?\n",
    "\n",
    "In each example, begin with the raw DataFrames `df_2019` and `df_2020`."
   ]
  },
  {
   "cell_type": "markdown",
   "id": "b82388f8",
   "metadata": {},
   "source": [
    "**More bike rides in March 2019 or March 2020?** (Warmup)\n"
   ]
  },
  {
   "cell_type": "code",
   "execution_count": null,
   "id": "4f451f1c",
   "metadata": {},
   "outputs": [],
   "source": []
  },
  {
   "cell_type": "markdown",
   "id": "8aa4d238",
   "metadata": {},
   "source": [
    "**Which bike saw the most use in 2019?**"
   ]
  },
  {
   "cell_type": "code",
   "execution_count": null,
   "id": "6682fb63",
   "metadata": {},
   "outputs": [],
   "source": []
  },
  {
   "cell_type": "markdown",
   "id": "cd0dee14",
   "metadata": {},
   "source": [
    "**Which bike saw the most use in 2020?**\n"
   ]
  },
  {
   "cell_type": "code",
   "execution_count": null,
   "id": "baf473a2",
   "metadata": {},
   "outputs": [],
   "source": []
  },
  {
   "cell_type": "markdown",
   "id": "821be4cd",
   "metadata": {},
   "source": [
    "**Which stations saw the biggest change in rides?**\n",
    "\n",
    "* Which stations saw the biggest decrease?\n",
    "* Which stations saw the biggest increase?"
   ]
  },
  {
   "cell_type": "code",
   "execution_count": null,
   "id": "ae36c7d5",
   "metadata": {},
   "outputs": [],
   "source": []
  },
  {
   "cell_type": "markdown",
   "id": "6b75a8e5",
   "metadata": {},
   "source": [
    "**Which station saw the longest average distance rides (include data from both years)?**"
   ]
  },
  {
   "cell_type": "code",
   "execution_count": null,
   "id": "9b84e62a",
   "metadata": {},
   "outputs": [],
   "source": [
    "# Install geopy for distance calculation\n",
    "# !pip install geopy\n",
    "# from geopy import distance\n",
    "# distance.distance((lat, lon), (lat, lon)).km"
   ]
  },
  {
   "cell_type": "code",
   "execution_count": null,
   "id": "db178d6c",
   "metadata": {},
   "outputs": [],
   "source": []
  },
  {
   "cell_type": "markdown",
   "id": "d9778cbc",
   "metadata": {},
   "source": [
    "**Which two stations saw the highest speed ridden between them?**\n",
    "\n",
    "Compute this assuming the distance is \"as the crow flies\"."
   ]
  },
  {
   "cell_type": "code",
   "execution_count": null,
   "id": "fed8dea4",
   "metadata": {},
   "outputs": [],
   "source": []
  },
  {
   "cell_type": "markdown",
   "id": "e6135f2c",
   "metadata": {},
   "source": [
    "**What else can we try to do?**"
   ]
  },
  {
   "cell_type": "code",
   "execution_count": null,
   "id": "fd780bfa",
   "metadata": {},
   "outputs": [],
   "source": []
  }
 ],
 "metadata": {
  "kernelspec": {
   "display_name": "Python 3",
   "language": "python",
   "name": "python3"
  },
  "language_info": {
   "codemirror_mode": {
    "name": "ipython",
    "version": 3
   },
   "file_extension": ".py",
   "mimetype": "text/x-python",
   "name": "python",
   "nbconvert_exporter": "python",
   "pygments_lexer": "ipython3",
   "version": "3.8.8"
  }
 },
 "nbformat": 4,
 "nbformat_minor": 5
}
